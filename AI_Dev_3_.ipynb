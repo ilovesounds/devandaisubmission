{
  "nbformat": 4,
  "nbformat_minor": 0,
  "metadata": {
    "colab": {
      "provenance": [],
      "gpuType": "T4"
    },
    "kernelspec": {
      "name": "python3",
      "display_name": "Python 3"
    },
    "language_info": {
      "name": "python"
    }
  },
  "cells": [
    {
      "cell_type": "code",
      "execution_count": 1,
      "metadata": {
        "id": "i6yPF-6WCQL_",
        "colab": {
          "base_uri": "https://localhost:8080/",
          "height": 546
        },
        "outputId": "c677a08e-61b5-4d40-bdab-e6777bf22cbb"
      },
      "outputs": [
        {
          "output_type": "stream",
          "name": "stdout",
          "text": [
            "<class 'pandas.core.frame.DataFrame'>\n",
            "RangeIndex: 300000 entries, 0 to 299999\n",
            "Data columns (total 7 columns):\n",
            " #   Column            Non-Null Count   Dtype \n",
            "---  ------            --------------   ----- \n",
            " 0   id                300000 non-null  int64 \n",
            " 1   date              300000 non-null  object\n",
            " 2   likes             300000 non-null  int64 \n",
            " 3   content           300000 non-null  object\n",
            " 4   username          300000 non-null  object\n",
            " 5   media             300000 non-null  object\n",
            " 6   inferred company  300000 non-null  object\n",
            "dtypes: int64(2), object(5)\n",
            "memory usage: 16.0+ MB\n"
          ]
        },
        {
          "output_type": "execute_result",
          "data": {
            "text/plain": [
              "id                  0\n",
              "date                0\n",
              "likes               0\n",
              "content             0\n",
              "username            0\n",
              "media               0\n",
              "inferred company    0\n",
              "dtype: int64"
            ],
            "text/html": [
              "<div>\n",
              "<style scoped>\n",
              "    .dataframe tbody tr th:only-of-type {\n",
              "        vertical-align: middle;\n",
              "    }\n",
              "\n",
              "    .dataframe tbody tr th {\n",
              "        vertical-align: top;\n",
              "    }\n",
              "\n",
              "    .dataframe thead th {\n",
              "        text-align: right;\n",
              "    }\n",
              "</style>\n",
              "<table border=\"1\" class=\"dataframe\">\n",
              "  <thead>\n",
              "    <tr style=\"text-align: right;\">\n",
              "      <th></th>\n",
              "      <th>0</th>\n",
              "    </tr>\n",
              "  </thead>\n",
              "  <tbody>\n",
              "    <tr>\n",
              "      <th>id</th>\n",
              "      <td>0</td>\n",
              "    </tr>\n",
              "    <tr>\n",
              "      <th>date</th>\n",
              "      <td>0</td>\n",
              "    </tr>\n",
              "    <tr>\n",
              "      <th>likes</th>\n",
              "      <td>0</td>\n",
              "    </tr>\n",
              "    <tr>\n",
              "      <th>content</th>\n",
              "      <td>0</td>\n",
              "    </tr>\n",
              "    <tr>\n",
              "      <th>username</th>\n",
              "      <td>0</td>\n",
              "    </tr>\n",
              "    <tr>\n",
              "      <th>media</th>\n",
              "      <td>0</td>\n",
              "    </tr>\n",
              "    <tr>\n",
              "      <th>inferred company</th>\n",
              "      <td>0</td>\n",
              "    </tr>\n",
              "  </tbody>\n",
              "</table>\n",
              "</div><br><label><b>dtype:</b> int64</label>"
            ]
          },
          "metadata": {},
          "execution_count": 1
        }
      ],
      "source": [
        "import random\n",
        "import pandas as pd\n",
        "import numpy as np\n",
        "df = pd.read_excel(\"/content/drive/MyDrive/behaviour_simulation_train.xlsx\")\n",
        "\n",
        "\n",
        "df.shape\n",
        "df.head()\n",
        "df.info()\n",
        "df.isnull().sum()"
      ]
    },
    {
      "cell_type": "code",
      "source": [
        "df.dropna(subset=['content', 'username', 'inferred company', 'likes'], inplace=True)\n",
        "df['media'] = df['media'].fillna('no_media')\n",
        "\n",
        "\n",
        "df['has_media'] = df['media'].apply(lambda x: x != 'no_media')\n",
        "df['content'] = df['content'].astype(str).str.strip().str.lower()\n",
        "df['datetime'] = pd.to_datetime(df['date'], errors='coerce')"
      ],
      "metadata": {
        "id": "FN2QlZCar2L0"
      },
      "execution_count": 2,
      "outputs": []
    },
    {
      "cell_type": "code",
      "source": [
        "df['hour'] = df['datetime'].dt.hour\n",
        "df['day_of_week'] = df['datetime'].dt.day_name()\n",
        "df['word_count'] = df['content'].apply(lambda x: len(x.split()))\n",
        "df['char_count'] = df['content'].apply(len)"
      ],
      "metadata": {
        "id": "TNX9beGzr9bi"
      },
      "execution_count": 3,
      "outputs": []
    },
    {
      "cell_type": "code",
      "source": [
        "from textblob import TextBlob\n",
        "\n",
        "df['sentiment'] = df['content'].apply(lambda x: TextBlob(x).sentiment.polarity)"
      ],
      "metadata": {
        "id": "MGyjRkAYsBYT"
      },
      "execution_count": 4,
      "outputs": []
    },
    {
      "cell_type": "code",
      "source": [
        "df['char_count'] = df['content'].apply(len)"
      ],
      "metadata": {
        "id": "LjwSL2TTtbh_"
      },
      "execution_count": 5,
      "outputs": []
    },
    {
      "cell_type": "code",
      "source": [
        "from sklearn.preprocessing import LabelEncoder\n",
        "\n",
        "le = LabelEncoder()\n",
        "df['company_encoded'] = le.fit_transform(df['inferred company'])"
      ],
      "metadata": {
        "id": "MqDqQiXhthAo"
      },
      "execution_count": 6,
      "outputs": []
    },
    {
      "cell_type": "code",
      "source": [
        "from sklearn.preprocessing import LabelEncoder\n",
        "\n",
        "le = LabelEncoder()\n",
        "df['day_of_week_encoded'] = le.fit_transform(df['day_of_week'])"
      ],
      "metadata": {
        "id": "qGnNndFCtlt5"
      },
      "execution_count": 7,
      "outputs": []
    },
    {
      "cell_type": "code",
      "source": [
        "from sklearn.model_selection import train_test_split\n",
        "from sklearn.ensemble import RandomForestRegressor\n",
        "from sklearn.metrics import mean_squared_error\n",
        "import joblib\n",
        "from math import sqrt\n",
        "import numpy as np\n",
        "\n",
        "\n",
        "y = np.log1p(df['likes'])\n",
        "\n",
        "\n",
        "X = df[['word_count', 'char_count',  'hour', 'sentiment','company_encoded','day_of_week_encoded']]\n",
        "\n",
        "\n",
        "X_train, X_test, y_train, y_test = train_test_split(X, y, test_size=0.2, random_state=42)\n",
        "\n",
        "model = RandomForestRegressor()\n",
        "model.fit(X_train, y_train)\n",
        "\n",
        "\n",
        "log_preds = model.predict(X_test)\n",
        "\n",
        "\n",
        "preds = np.expm1(log_preds)\n",
        "\n",
        "\n",
        "\n",
        "y_test_original = np.expm1(y_test)\n",
        "\n",
        "\n",
        "from sklearn.metrics import mean_squared_error\n",
        "rmse = mean_squared_error(y_test_original, preds)\n",
        "print(\"RMSE (original scale):\", sqrt(rmse))\n",
        "\n",
        "\n",
        "\n",
        "y_mean_log = y_train.mean()\n",
        "baseline_log_preds = [y_mean_log] * len(y_test)\n",
        "baseline_preds = np.expm1(baseline_log_preds)\n",
        "baseline_rmse = mean_squared_error(y_test_original, baseline_preds)\n",
        "print(\"Baseline RMSE (Mean Prediction, original scale):\", sqrt(baseline_rmse))\n",
        "import joblib\n",
        "joblib.dump(model, 'like_predictor.pkl')"
      ],
      "metadata": {
        "colab": {
          "base_uri": "https://localhost:8080/"
        },
        "id": "yrbXNIAOtq4S",
        "outputId": "347077c6-33c5-4810-ddfb-081ca79115a8"
      },
      "execution_count": 8,
      "outputs": [
        {
          "output_type": "stream",
          "name": "stdout",
          "text": [
            "RMSE (original scale): 4480.344761857787\n",
            "Baseline RMSE (Mean Prediction, original scale): 4881.240219298552\n"
          ]
        },
        {
          "output_type": "execute_result",
          "data": {
            "text/plain": [
              "['like_predictor.pkl']"
            ]
          },
          "metadata": {},
          "execution_count": 8
        }
      ]
    },
    {
      "cell_type": "code",
      "source": [
        "class SimpleTweetGenerator:\n",
        "  def __init__(self) -> None:\n",
        "    self.template={\n",
        "        \"Announcement\":[\n",
        "                \"🚀 Exciting news from {company}! {message}\",\n",
        "                \"Big announcement: {company} is {message} 🎉\",\n",
        "                \"Hey everyone! {company} has {message} ✨\"\n",
        "        ],\n",
        "        \"question\":[\n",
        "                \"What do you think about {topic}? Let us know! 💬\",\n",
        "                \"Quick question: How do you feel about {topic}? 🤔\",\n",
        "                \"{company} wants to know: What's your take on {topic}? 🗣️\"\n",
        "        ],\n",
        "        \"general\":[\n",
        "                \"Check out what {company} is up to! {message} 🌟\",\n",
        "                \"{company} update: {message} 💯\",\n",
        "                \"From the {company} team: {message} 🔥\"\n",
        "\n",
        "        ]\n",
        "\n",
        "    }\n",
        "  def generate_tweet(self, company, tweet_type=\"general\", message=\"Something awesome!\", topic=\"innovation\")-> str:\n",
        "        template_list = self.template.get(tweet_type, self.template['general'])\n",
        "        template = random.choice(template_list)\n",
        "\n",
        "\n",
        "        tweet = template.format(\n",
        "            company=company,\n",
        "            message=message,\n",
        "            topic=topic\n",
        "        )\n",
        "\n",
        "\n",
        "        if len(tweet) > 280:\n",
        "            tweet = tweet[:277] + \"...\"\n",
        "\n",
        "        return tweet\n",
        "\n",
        "\n",
        "generator = SimpleTweetGenerator()\n",
        "test_tweet = generator.generate_tweet(\"Nike\", \"announcement\", \"launching new running shoes\")\n",
        "print(test_tweet)\n",
        "\n",
        "\n",
        "\n"
      ],
      "metadata": {
        "id": "2jehDtdPC6Wq",
        "colab": {
          "base_uri": "https://localhost:8080/"
        },
        "outputId": "4a2cd822-fe39-4ae3-a4af-a37784f8bdb5"
      },
      "execution_count": 9,
      "outputs": [
        {
          "output_type": "stream",
          "name": "stdout",
          "text": [
            "From the Nike team: launching new running shoes 🔥\n"
          ]
        }
      ]
    },
    {
      "cell_type": "code",
      "source": [
        "\n",
        "generator = SimpleTweetGenerator()\n",
        "\n",
        "print(\"Test 1:\", generator.generate_tweet(\"Starbucks\", \"question\", topic=\"coffee\"))\n",
        "print(\"Test 2:\", generator.generate_tweet(\"Apple\", \"announcement\", \"releasing iOS update\"))\n",
        "print(\"Test 3:\", generator.generate_tweet(\"Tesla\", \"general\", \"changing the world\"))"
      ],
      "metadata": {
        "id": "lHTsVYH8MPGD",
        "colab": {
          "base_uri": "https://localhost:8080/"
        },
        "outputId": "f6d9522e-e458-485c-b5c9-501b1a5cd854"
      },
      "execution_count": 10,
      "outputs": [
        {
          "output_type": "stream",
          "name": "stdout",
          "text": [
            "Test 1: Starbucks wants to know: What's your take on coffee? 🗣️\n",
            "Test 2: Check out what Apple is up to! releasing iOS update 🌟\n",
            "Test 3: Check out what Tesla is up to! changing the world 🌟\n"
          ]
        }
      ]
    },
    {
      "cell_type": "code",
      "source": [
        "\n",
        "from flask import Flask, request, jsonify\n",
        "import threading\n",
        "\n",
        "app = Flask(__name__)\n",
        "generator = SimpleTweetGenerator()\n",
        "\n",
        "@app.route('/generate', methods=['POST'])\n",
        "def generate():\n",
        "    try:\n",
        "        data = request.get_json()\n",
        "        company = data.get('company', 'Our Company')\n",
        "        tweet_type = data.get('tweet_type', 'general')\n",
        "        message = data.get('message', 'Something awesome!')\n",
        "        topic = data.get('topic', 'innovation')\n",
        "        generated_tweet = generator.generate_tweet(company, tweet_type, message, topic)\n",
        "        return jsonify({\n",
        "            'generated_tweet': generated_tweet,\n",
        "            'success': True,\n",
        "            'company': company,\n",
        "            'type': tweet_type\n",
        "        })\n",
        "    except Exception as e:\n",
        "        return jsonify({\n",
        "            'error': str(e),\n",
        "            'success': False\n",
        "        }), 500\n",
        "\n",
        "@app.route('/health', methods=['GET'])\n",
        "def health():\n",
        "    return jsonify({'status': 'Tweet Generator API is running!'})\n",
        "def run_flask():\n",
        "  app.run(host='0.0.0.0',port=5001)\n",
        "\n",
        "flask_thread = threading.Thread(target=run_flask)\n",
        "flask_thread.daemon = True\n",
        "flask_thread.start()\n"
      ],
      "metadata": {
        "id": "p39ncQpkMmwK",
        "colab": {
          "base_uri": "https://localhost:8080/"
        },
        "outputId": "1aa91d95-3e4d-405c-edf9-221cc495fe29"
      },
      "execution_count": 11,
      "outputs": [
        {
          "output_type": "stream",
          "name": "stdout",
          "text": [
            " * Serving Flask app '__main__'\n",
            " * Debug mode: off\n"
          ]
        },
        {
          "output_type": "stream",
          "name": "stderr",
          "text": [
            "INFO:werkzeug:\u001b[31m\u001b[1mWARNING: This is a development server. Do not use it in a production deployment. Use a production WSGI server instead.\u001b[0m\n",
            " * Running on all addresses (0.0.0.0)\n",
            " * Running on http://127.0.0.1:5001\n",
            " * Running on http://172.28.0.12:5001\n"
          ]
        }
      ]
    },
    {
      "cell_type": "code",
      "source": [
        "from flask import Flask, request, jsonify\n",
        "import joblib\n",
        "import numpy as np\n",
        "\n",
        "import threading\n",
        "\n",
        "\n",
        "model = joblib.load('like_predictor.pkl')\n",
        "\n",
        "\n",
        "\n",
        "\n",
        "app = Flask(__name__)\n",
        "\n",
        "@app.route('/predict', methods=['POST'])\n",
        "def predict():\n",
        "    data = request.get_json()\n",
        "    features = np.array([\n",
        "        data['word_count'],\n",
        "        data['char_count'],\n",
        "        data['hour'],\n",
        "        data['sentiment'],\n",
        "        data['company_encoded'],\n",
        "        data['day_of_week_encoded']\n",
        "    ]).reshape(1, -1)\n",
        "    prediction = model.predict(features)[0]\n",
        "    return jsonify({'predicted_likes': int(prediction)})\n",
        "\n",
        "def run_flask():\n",
        "    app.run(host='0.0.0.0', port=5000)\n",
        "\n",
        "\n",
        "flask_thread = threading.Thread(target=run_flask)\n",
        "flask_thread.daemon = True\n",
        "flask_thread.start()"
      ],
      "metadata": {
        "colab": {
          "base_uri": "https://localhost:8080/"
        },
        "id": "DDLiGtdftyRW",
        "outputId": "aa805e46-4681-45f9-8cc9-3d3bc9d7f207"
      },
      "execution_count": 12,
      "outputs": [
        {
          "output_type": "stream",
          "name": "stdout",
          "text": [
            " * Serving Flask app '__main__'\n",
            " * Debug mode: off\n"
          ]
        },
        {
          "output_type": "stream",
          "name": "stderr",
          "text": [
            "INFO:werkzeug:\u001b[31m\u001b[1mWARNING: This is a development server. Do not use it in a production deployment. Use a production WSGI server instead.\u001b[0m\n",
            " * Running on all addresses (0.0.0.0)\n",
            " * Running on http://127.0.0.1:5000\n",
            " * Running on http://172.28.0.12:5000\n"
          ]
        }
      ]
    },
    {
      "cell_type": "code",
      "source": [
        "import requests\n",
        "\n",
        "# Test your new generator API\n",
        "response = requests.post('http://localhost:5001/generate', json={\n",
        "    'company': 'Starbucks',\n",
        "    'tweet_type': 'question',\n",
        "    'message': 'trying new recipes',\n",
        "    'topic': 'coffee'\n",
        "})\n",
        "\n",
        "print(\"Generated Tweet:\", response.json())\n"
      ],
      "metadata": {
        "id": "lU2rNfJIYD_K",
        "colab": {
          "base_uri": "https://localhost:8080/"
        },
        "outputId": "f80a9acf-54b7-4390-caf4-6f8d3fae33a0"
      },
      "execution_count": 13,
      "outputs": [
        {
          "output_type": "stream",
          "name": "stderr",
          "text": [
            "INFO:werkzeug:127.0.0.1 - - [04/Jul/2025 18:37:11] \"POST /generate HTTP/1.1\" 200 -\n"
          ]
        },
        {
          "output_type": "stream",
          "name": "stdout",
          "text": [
            "Generated Tweet: {'company': 'Starbucks', 'generated_tweet': \"Starbucks wants to know: What's your take on coffee? 🗣️\", 'success': True, 'type': 'question'}\n"
          ]
        }
      ]
    },
    {
      "cell_type": "code",
      "source": [
        "!curl -X POST http://localhost:5001/generate -H \"Content-Type: application/json\" -d '{\"company\": \"Nike\", \"tweet_type\": \"announcement\", \"message\": \"launching new Air Max shoes\", \"topic\": \"running\"}'\n"
      ],
      "metadata": {
        "colab": {
          "base_uri": "https://localhost:8080/"
        },
        "id": "nMIGKXfMijrm",
        "outputId": "39c11e9b-2733-41e9-bdab-bef30e14ba8b"
      },
      "execution_count": 14,
      "outputs": [
        {
          "output_type": "stream",
          "name": "stderr",
          "text": [
            "INFO:werkzeug:127.0.0.1 - - [04/Jul/2025 18:37:17] \"POST /generate HTTP/1.1\" 200 -\n"
          ]
        },
        {
          "output_type": "stream",
          "name": "stdout",
          "text": [
            "{\"company\":\"Nike\",\"generated_tweet\":\"Check out what Nike is up to! launching new Air Max shoes \\ud83c\\udf1f\",\"success\":true,\"type\":\"announcement\"}\n"
          ]
        }
      ]
    },
    {
      "cell_type": "code",
      "source": [
        "import requests\n",
        "\n",
        "# Test prediction API (from Week 2)\n",
        "prediction_response = requests.post('http://localhost:5000/predict', json={\n",
        "    'word_count': 15,\n",
        "    'char_count': 120,\n",
        "    'company_encoded':1,\n",
        "    'day_of_week_encoded': 3,\n",
        "    'hour': 14,\n",
        "    'sentiment': 0.8\n",
        "})\n",
        "\n",
        "# Test generation API (from Week 3)\n",
        "generation_response = requests.post('http://localhost:5001/generate', json={\n",
        "    'company': 'Nike',\n",
        "    'tweet_type': 'announcement',\n",
        "    'message': 'launching new product',\n",
        "    'topic': 'sports'\n",
        "})\n",
        "\n",
        "print(\"Predicted Likes:\", prediction_response.json())\n",
        "print(\"Generated Tweet:\", generation_response.json())"
      ],
      "metadata": {
        "colab": {
          "base_uri": "https://localhost:8080/"
        },
        "id": "XcrX6vvxje-P",
        "outputId": "d8454652-081e-41d4-a99c-58e99a6e6e54"
      },
      "execution_count": 15,
      "outputs": [
        {
          "output_type": "stream",
          "name": "stderr",
          "text": [
            "/usr/local/lib/python3.11/dist-packages/sklearn/utils/validation.py:2739: UserWarning: X does not have valid feature names, but RandomForestRegressor was fitted with feature names\n",
            "  warnings.warn(\n",
            "INFO:werkzeug:127.0.0.1 - - [04/Jul/2025 18:37:19] \"POST /predict HTTP/1.1\" 200 -\n",
            "INFO:werkzeug:127.0.0.1 - - [04/Jul/2025 18:37:19] \"POST /generate HTTP/1.1\" 200 -\n"
          ]
        },
        {
          "output_type": "stream",
          "name": "stdout",
          "text": [
            "Predicted Likes: {'predicted_likes': 0}\n",
            "Generated Tweet: {'company': 'Nike', 'generated_tweet': 'Check out what Nike is up to! launching new product 🌟', 'success': True, 'type': 'announcement'}\n"
          ]
        }
      ]
    }
  ]
}