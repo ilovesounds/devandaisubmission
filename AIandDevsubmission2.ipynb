{
  "nbformat": 4,
  "nbformat_minor": 0,
  "metadata": {
    "colab": {
      "provenance": [],
      "mount_file_id": "1XUZRA1zwsCsjsjksJuuYlRaeHA9TxID7",
      "authorship_tag": "ABX9TyNdwHuXS+t4aVY7884IkjsN",
      "include_colab_link": true
    },
    "kernelspec": {
      "name": "python3",
      "display_name": "Python 3"
    },
    "language_info": {
      "name": "python"
    }
  },
  "cells": [
    {
      "cell_type": "markdown",
      "metadata": {
        "id": "view-in-github",
        "colab_type": "text"
      },
      "source": [
        "<a href=\"https://colab.research.google.com/github/ilovesounds/devandaisubmission/blob/main/AIandDevsubmission2.ipynb\" target=\"_parent\"><img src=\"https://colab.research.google.com/assets/colab-badge.svg\" alt=\"Open In Colab\"/></a>"
      ]
    },
    {
      "cell_type": "code",
      "execution_count": 1,
      "metadata": {
        "id": "FpRVTrkU29Fm"
      },
      "outputs": [],
      "source": [
        "import numpy\n"
      ]
    },
    {
      "cell_type": "code",
      "source": [],
      "metadata": {
        "id": "xKZck2Ir6LKm"
      },
      "execution_count": 1,
      "outputs": []
    },
    {
      "cell_type": "code",
      "source": [],
      "metadata": {
        "id": "yYjcN4P16NRW"
      },
      "execution_count": 1,
      "outputs": []
    },
    {
      "cell_type": "code",
      "source": [
        "import pandas\n"
      ],
      "metadata": {
        "id": "gt4EcmXk3PI9"
      },
      "execution_count": 2,
      "outputs": []
    },
    {
      "cell_type": "code",
      "source": [
        "import pandas as pd\n",
        "\n",
        "df = pd.read_excel(\"/content/drive/MyDrive/behaviour_simulation_train.xlsx\")\n",
        "\n",
        "\n",
        "df.shape\n",
        "df.head()\n",
        "df.info()\n",
        "df.isnull().sum()\n"
      ],
      "metadata": {
        "colab": {
          "base_uri": "https://localhost:8080/",
          "height": 546
        },
        "id": "ieQWxY-t6N_a",
        "outputId": "3853d700-3044-4068-e836-e18353939c18"
      },
      "execution_count": 3,
      "outputs": [
        {
          "output_type": "stream",
          "name": "stdout",
          "text": [
            "<class 'pandas.core.frame.DataFrame'>\n",
            "RangeIndex: 300000 entries, 0 to 299999\n",
            "Data columns (total 7 columns):\n",
            " #   Column            Non-Null Count   Dtype \n",
            "---  ------            --------------   ----- \n",
            " 0   id                300000 non-null  int64 \n",
            " 1   date              300000 non-null  object\n",
            " 2   likes             300000 non-null  int64 \n",
            " 3   content           300000 non-null  object\n",
            " 4   username          300000 non-null  object\n",
            " 5   media             300000 non-null  object\n",
            " 6   inferred company  300000 non-null  object\n",
            "dtypes: int64(2), object(5)\n",
            "memory usage: 16.0+ MB\n"
          ]
        },
        {
          "output_type": "execute_result",
          "data": {
            "text/plain": [
              "id                  0\n",
              "date                0\n",
              "likes               0\n",
              "content             0\n",
              "username            0\n",
              "media               0\n",
              "inferred company    0\n",
              "dtype: int64"
            ],
            "text/html": [
              "<div>\n",
              "<style scoped>\n",
              "    .dataframe tbody tr th:only-of-type {\n",
              "        vertical-align: middle;\n",
              "    }\n",
              "\n",
              "    .dataframe tbody tr th {\n",
              "        vertical-align: top;\n",
              "    }\n",
              "\n",
              "    .dataframe thead th {\n",
              "        text-align: right;\n",
              "    }\n",
              "</style>\n",
              "<table border=\"1\" class=\"dataframe\">\n",
              "  <thead>\n",
              "    <tr style=\"text-align: right;\">\n",
              "      <th></th>\n",
              "      <th>0</th>\n",
              "    </tr>\n",
              "  </thead>\n",
              "  <tbody>\n",
              "    <tr>\n",
              "      <th>id</th>\n",
              "      <td>0</td>\n",
              "    </tr>\n",
              "    <tr>\n",
              "      <th>date</th>\n",
              "      <td>0</td>\n",
              "    </tr>\n",
              "    <tr>\n",
              "      <th>likes</th>\n",
              "      <td>0</td>\n",
              "    </tr>\n",
              "    <tr>\n",
              "      <th>content</th>\n",
              "      <td>0</td>\n",
              "    </tr>\n",
              "    <tr>\n",
              "      <th>username</th>\n",
              "      <td>0</td>\n",
              "    </tr>\n",
              "    <tr>\n",
              "      <th>media</th>\n",
              "      <td>0</td>\n",
              "    </tr>\n",
              "    <tr>\n",
              "      <th>inferred company</th>\n",
              "      <td>0</td>\n",
              "    </tr>\n",
              "  </tbody>\n",
              "</table>\n",
              "</div><br><label><b>dtype:</b> int64</label>"
            ]
          },
          "metadata": {},
          "execution_count": 3
        }
      ]
    },
    {
      "cell_type": "code",
      "source": [
        "df.dropna(subset=['content', 'username', 'inferred company', 'likes'], inplace=True)\n",
        "df['media'] = df['media'].fillna('no_media')\n",
        "\n",
        "\n",
        "df['has_media'] = df['media'].apply(lambda x: x != 'no_media')\n",
        "df['content'] = df['content'].astype(str).str.strip().str.lower()\n",
        "df['datetime'] = pd.to_datetime(df['date'], errors='coerce')"
      ],
      "metadata": {
        "id": "RZTGpKBB8D97"
      },
      "execution_count": 4,
      "outputs": []
    },
    {
      "cell_type": "code",
      "source": [],
      "metadata": {
        "id": "UR1QT_W381sT"
      },
      "execution_count": 4,
      "outputs": []
    },
    {
      "cell_type": "code",
      "source": [
        "print(df.columns.tolist())\n",
        "print(len(df))\n",
        "\n"
      ],
      "metadata": {
        "colab": {
          "base_uri": "https://localhost:8080/"
        },
        "id": "gudU5F_C8XM6",
        "outputId": "1dfe7e9c-c9f7-4274-c1bd-77cd36443cd0"
      },
      "execution_count": 5,
      "outputs": [
        {
          "output_type": "stream",
          "name": "stdout",
          "text": [
            "['id', 'date', 'likes', 'content', 'username', 'media', 'inferred company', 'has_media', 'datetime']\n",
            "300000\n"
          ]
        }
      ]
    },
    {
      "cell_type": "code",
      "source": [
        "import seaborn as sns\n",
        "import matplotlib.pyplot as plt\n",
        "\n",
        "sns.histplot(df['likes'], kde=True)\n",
        "sns.boxplot(x=df['likes'])"
      ],
      "metadata": {
        "colab": {
          "base_uri": "https://localhost:8080/",
          "height": 466
        },
        "id": "qaa2i_Zs82zS",
        "outputId": "caf1e1b4-ff75-4fb7-f0dd-351495cff570"
      },
      "execution_count": 6,
      "outputs": [
        {
          "output_type": "execute_result",
          "data": {
            "text/plain": [
              "<Axes: xlabel='likes', ylabel='Count'>"
            ]
          },
          "metadata": {},
          "execution_count": 6
        },
        {
          "output_type": "display_data",
          "data": {
            "text/plain": [
              "<Figure size 640x480 with 1 Axes>"
            ],
            "image/png": "[encoded data removed]"
          },
          "metadata": {}
        }
      ]
    },
    {
      "cell_type": "code",
      "source": [
        "df['hour'] = df['datetime'].dt.hour\n",
        "df['day_of_week'] = df['datetime'].dt.day_name()\n",
        "df['word_count'] = df['content'].apply(lambda x: len(x.split()))\n",
        "df['char_count'] = df['content'].apply(len)"
      ],
      "metadata": {
        "id": "O5IBBUjL9ZlC"
      },
      "execution_count": 7,
      "outputs": []
    },
    {
      "cell_type": "code",
      "source": [
        "from textblob import TextBlob\n",
        "\n",
        "df['sentiment'] = df['content'].apply(lambda x: TextBlob(x).sentiment.polarity)"
      ],
      "metadata": {
        "id": "-glAylb2xfEz"
      },
      "execution_count": 8,
      "outputs": []
    },
    {
      "cell_type": "code",
      "source": [
        "df['char_count'] = df['content'].apply(len)"
      ],
      "metadata": {
        "id": "kziO2YdJyJkF"
      },
      "execution_count": 9,
      "outputs": []
    },
    {
      "cell_type": "code",
      "source": [
        "from sklearn.preprocessing import LabelEncoder\n",
        "\n",
        "le = LabelEncoder()\n",
        "df['company_encoded'] = le.fit_transform(df['inferred company'])"
      ],
      "metadata": {
        "id": "pDW7NlILzNHx"
      },
      "execution_count": 10,
      "outputs": []
    },
    {
      "cell_type": "code",
      "source": [
        "from sklearn.preprocessing import LabelEncoder\n",
        "\n",
        "le = LabelEncoder()\n",
        "df['company_encoded'] = le.fit_transform(df['inferred company'])"
      ],
      "metadata": {
        "id": "R-BXBLqy39mh"
      },
      "execution_count": 11,
      "outputs": []
    },
    {
      "cell_type": "code",
      "source": [
        "from sklearn.preprocessing import LabelEncoder\n",
        "\n",
        "le = LabelEncoder()\n",
        "df['day_of_week_encoded'] = le.fit_transform(df['day_of_week'])"
      ],
      "metadata": {
        "id": "9HKqE_kpEQMs"
      },
      "execution_count": 12,
      "outputs": []
    },
    {
      "cell_type": "code",
      "source": [
        "print(df.columns.tolist())\n",
        "print(len(df))"
      ],
      "metadata": {
        "colab": {
          "base_uri": "https://localhost:8080/"
        },
        "id": "KTlI0VCHDQ2a",
        "outputId": "80dbf26b-5f72-4daa-97a7-c2b7380386d3"
      },
      "execution_count": 13,
      "outputs": [
        {
          "output_type": "stream",
          "name": "stdout",
          "text": [
            "['id', 'date', 'likes', 'content', 'username', 'media', 'inferred company', 'has_media', 'datetime', 'hour', 'day_of_week', 'word_count', 'char_count', 'sentiment', 'company_encoded', 'day_of_week_encoded']\n",
            "300000\n"
          ]
        }
      ]
    },
    {
      "cell_type": "code",
      "source": [
        "from sklearn.model_selection import train_test_split\n",
        "from sklearn.ensemble import RandomForestRegressor\n",
        "from sklearn.metrics import mean_squared_error\n",
        "import joblib\n",
        "from math import sqrt\n",
        "import numpy as np\n",
        "\n",
        "# Use log1p to handle zeros safely (log1p(x) = log(x + 1))\n",
        "y = np.log1p(df['likes'])\n",
        "\n",
        "\n",
        "X = df[['word_count', 'char_count',  'hour', 'sentiment','company_encoded','day_of_week_encoded']]\n",
        "\n",
        "\n",
        "X_train, X_test, y_train, y_test = train_test_split(X, y, test_size=0.2, random_state=42)\n",
        "\n",
        "model = RandomForestRegressor()\n",
        "model.fit(X_train, y_train)\n",
        "\n",
        "# Predict in log scale\n",
        "log_preds = model.predict(X_test)\n",
        "\n",
        "# Convert predictions back to original scale\n",
        "preds = np.expm1(log_preds)\n",
        "\n",
        "\n",
        "# Calculate the mean of y_train (average likes in training data)\n",
        "# Inverse transform y_test\n",
        "y_test_original = np.expm1(y_test)\n",
        "\n",
        "# Calculate RMSE in the original scale\n",
        "from sklearn.metrics import mean_squared_error\n",
        "rmse = mean_squared_error(y_test_original, preds)\n",
        "print(\"RMSE (original scale):\", sqrt(rmse))\n",
        "\n",
        "\n",
        "# Calculate RMSE for the baseline\n",
        "y_mean_log = y_train.mean()\n",
        "baseline_log_preds = [y_mean_log] * len(y_test)\n",
        "baseline_preds = np.expm1(baseline_log_preds)\n",
        "baseline_rmse = mean_squared_error(y_test_original, baseline_preds)\n",
        "print(\"Baseline RMSE (Mean Prediction, original scale):\", sqrt(baseline_rmse))\n",
        "import joblib\n",
        "joblib.dump(model, 'like_predictor.pkl')\n",
        "\n"
      ],
      "metadata": {
        "colab": {
          "base_uri": "https://localhost:8080/"
        },
        "id": "v8J9iMCo8jP-",
        "outputId": "043890c0-39ba-4ae9-9dcf-7333f28e68fb"
      },
      "execution_count": 14,
      "outputs": [
        {
          "output_type": "stream",
          "name": "stdout",
          "text": [
            "RMSE (original scale): 4506.889372331521\n",
            "Baseline RMSE (Mean Prediction, original scale): 4881.240219298552\n"
          ]
        },
        {
          "output_type": "execute_result",
          "data": {
            "text/plain": [
              "['like_predictor.pkl']"
            ]
          },
          "metadata": {},
          "execution_count": 14
        }
      ]
    },
    {
      "cell_type": "code",
      "source": [
        "!pip install flask  # Remove outdated versions\n",
        "!pip install pyngrok==7.0.0 flask-ngrok  # Install compatible versions\n",
        "!ngrok authtoken 2yLrIIDJhRxrbgX2AHj01gBqQny_2jKfv8K9xNnjMjt4cKXR  # Replace with your free ngrok token\n",
        "\n"
      ],
      "metadata": {
        "colab": {
          "base_uri": "https://localhost:8080/"
        },
        "id": "rmH2Q-ZYuCJu",
        "outputId": "440df641-94f7-4f5b-bb54-29c9770883b3"
      },
      "execution_count": 17,
      "outputs": [
        {
          "output_type": "stream",
          "name": "stdout",
          "text": [
            "Requirement already satisfied: flask in /usr/local/lib/python3.11/dist-packages (3.1.1)\n",
            "Requirement already satisfied: blinker>=1.9.0 in /usr/local/lib/python3.11/dist-packages (from flask) (1.9.0)\n",
            "Requirement already satisfied: click>=8.1.3 in /usr/local/lib/python3.11/dist-packages (from flask) (8.2.1)\n",
            "Requirement already satisfied: itsdangerous>=2.2.0 in /usr/local/lib/python3.11/dist-packages (from flask) (2.2.0)\n",
            "Requirement already satisfied: jinja2>=3.1.2 in /usr/local/lib/python3.11/dist-packages (from flask) (3.1.6)\n",
            "Requirement already satisfied: markupsafe>=2.1.1 in /usr/local/lib/python3.11/dist-packages (from flask) (3.0.2)\n",
            "Requirement already satisfied: werkzeug>=3.1.0 in /usr/local/lib/python3.11/dist-packages (from flask) (3.1.3)\n",
            "Requirement already satisfied: pyngrok==7.0.0 in /usr/local/lib/python3.11/dist-packages (7.0.0)\n",
            "Requirement already satisfied: flask-ngrok in /usr/local/lib/python3.11/dist-packages (0.0.25)\n",
            "Requirement already satisfied: PyYAML in /usr/local/lib/python3.11/dist-packages (from pyngrok==7.0.0) (6.0.2)\n",
            "Requirement already satisfied: Flask>=0.8 in /usr/local/lib/python3.11/dist-packages (from flask-ngrok) (3.1.1)\n",
            "Requirement already satisfied: requests in /usr/local/lib/python3.11/dist-packages (from flask-ngrok) (2.32.3)\n",
            "Requirement already satisfied: blinker>=1.9.0 in /usr/local/lib/python3.11/dist-packages (from Flask>=0.8->flask-ngrok) (1.9.0)\n",
            "Requirement already satisfied: click>=8.1.3 in /usr/local/lib/python3.11/dist-packages (from Flask>=0.8->flask-ngrok) (8.2.1)\n",
            "Requirement already satisfied: itsdangerous>=2.2.0 in /usr/local/lib/python3.11/dist-packages (from Flask>=0.8->flask-ngrok) (2.2.0)\n",
            "Requirement already satisfied: jinja2>=3.1.2 in /usr/local/lib/python3.11/dist-packages (from Flask>=0.8->flask-ngrok) (3.1.6)\n",
            "Requirement already satisfied: markupsafe>=2.1.1 in /usr/local/lib/python3.11/dist-packages (from Flask>=0.8->flask-ngrok) (3.0.2)\n",
            "Requirement already satisfied: werkzeug>=3.1.0 in /usr/local/lib/python3.11/dist-packages (from Flask>=0.8->flask-ngrok) (3.1.3)\n",
            "Requirement already satisfied: charset-normalizer<4,>=2 in /usr/local/lib/python3.11/dist-packages (from requests->flask-ngrok) (3.4.2)\n",
            "Requirement already satisfied: idna<4,>=2.5 in /usr/local/lib/python3.11/dist-packages (from requests->flask-ngrok) (3.10)\n",
            "Requirement already satisfied: urllib3<3,>=1.21.1 in /usr/local/lib/python3.11/dist-packages (from requests->flask-ngrok) (2.4.0)\n",
            "Requirement already satisfied: certifi>=2017.4.17 in /usr/local/lib/python3.11/dist-packages (from requests->flask-ngrok) (2025.4.26)\n",
            "Authtoken saved to configuration file: /root/.ngrok2/ngrok.yml\n"
          ]
        }
      ]
    },
    {
      "cell_type": "code",
      "source": [
        "\n",
        "!pip install flask pyngrok==7.0.0  # Install dependencies first\n",
        "from flask import Flask, request, jsonify\n",
        "import joblib\n",
        "import numpy as np\n",
        "from pyngrok import ngrok\n",
        "import threading\n",
        "\n",
        "# Load model\n",
        "model = joblib.load('like_predictor.pkl')\n",
        "\n",
        "# Start ngrok tunnel\n",
        "public_url = ngrok.connect(5000)\n",
        "print(\" * ngrok tunnel:\", public_url)\n",
        "\n",
        "app = Flask(__name__)\n",
        "\n",
        "@app.route('/predict', methods=['POST'])\n",
        "def predict():\n",
        "    data = request.get_json()\n",
        "    features = np.array([\n",
        "        data['word_count'],\n",
        "        data['char_count'],\n",
        "        data['hour'],\n",
        "        data['sentiment'],\n",
        "        data['company_encoded'],\n",
        "        data['day_of_week_encoded']\n",
        "    ]).reshape(1, -1)\n",
        "    prediction = model.predict(features)[0]\n",
        "    return jsonify({'predicted_likes': int(prediction)})\n",
        "\n",
        "def run_flask():\n",
        "    app.run(host='0.0.0.0', port=5000)\n",
        "\n",
        "# Start Flask in background thread\n",
        "flask_thread = threading.Thread(target=run_flask)\n",
        "flask_thread.daemon = True  # Daemonize thread\n",
        "flask_thread.start()\n",
        "\n",
        "\n"
      ],
      "metadata": {
        "colab": {
          "base_uri": "https://localhost:8080/"
        },
        "id": "Zxfa5owJiE6s",
        "outputId": "6409fe40-f2b0-401d-d630-0e6af6278ac3"
      },
      "execution_count": 24,
      "outputs": [
        {
          "output_type": "stream",
          "name": "stdout",
          "text": [
            "Requirement already satisfied: flask in /usr/local/lib/python3.11/dist-packages (3.1.1)\n",
            "Requirement already satisfied: pyngrok==7.0.0 in /usr/local/lib/python3.11/dist-packages (7.0.0)\n",
            "Requirement already satisfied: PyYAML in /usr/local/lib/python3.11/dist-packages (from pyngrok==7.0.0) (6.0.2)\n",
            "Requirement already satisfied: blinker>=1.9.0 in /usr/local/lib/python3.11/dist-packages (from flask) (1.9.0)\n",
            "Requirement already satisfied: click>=8.1.3 in /usr/local/lib/python3.11/dist-packages (from flask) (8.2.1)\n",
            "Requirement already satisfied: itsdangerous>=2.2.0 in /usr/local/lib/python3.11/dist-packages (from flask) (2.2.0)\n",
            "Requirement already satisfied: jinja2>=3.1.2 in /usr/local/lib/python3.11/dist-packages (from flask) (3.1.6)\n",
            "Requirement already satisfied: markupsafe>=2.1.1 in /usr/local/lib/python3.11/dist-packages (from flask) (3.0.2)\n",
            "Requirement already satisfied: werkzeug>=3.1.0 in /usr/local/lib/python3.11/dist-packages (from flask) (3.1.3)\n",
            " * ngrok tunnel: NgrokTunnel: \"https://b410-34-41-61-190.ngrok-free.app\" -> \"http://localhost:5000\"\n",
            " * Serving Flask app '__main__'\n"
          ]
        }
      ]
    },
    {
      "cell_type": "code",
      "source": [
        "import requests\n",
        "\n",
        "url = \"http://127.0.0.1:5000/predict\"  # Local testing within Colab\n",
        "data = {\n",
        "    \"word_count\": 100,\n",
        "    \"char_count\": 500,\n",
        "    \"hour\": 14,\n",
        "    \"sentiment\": 0.8,\n",
        "    \"company_encoded\": 1,\n",
        "    \"day_of_week_encoded\": 3\n",
        "}\n",
        "response = requests.post(url, json=data)\n",
        "print(response.json())\n"
      ],
      "metadata": {
        "colab": {
          "base_uri": "https://localhost:8080/"
        },
        "id": "pE3ZJc1q7JFn",
        "outputId": "e4a01e7a-09c6-4c33-cb95-d9c198610bf8"
      },
      "execution_count": 29,
      "outputs": [
        {
          "output_type": "stream",
          "name": "stderr",
          "text": [
            "/usr/local/lib/python3.11/dist-packages/sklearn/utils/validation.py:2739: UserWarning: X does not have valid feature names, but RandomForestRegressor was fitted with feature names\n",
            "  warnings.warn(\n",
            "INFO:werkzeug:127.0.0.1 - - [11/Jun/2025 08:18:28] \"POST /predict HTTP/1.1\" 200 -\n"
          ]
        },
        {
          "output_type": "stream",
          "name": "stdout",
          "text": [
            "{'predicted_likes': 0}\n"
          ]
        }
      ]
    }
  ]
}